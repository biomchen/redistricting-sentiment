{
 "cells": [
  {
   "cell_type": "code",
   "execution_count": 1,
   "metadata": {},
   "outputs": [],
   "source": [
    "from redistrict import *"
   ]
  },
  {
   "cell_type": "code",
   "execution_count": null,
   "metadata": {},
   "outputs": [],
   "source": [
    "sch_names_old = ['Centerville ES', 'Deer Crossing ES', 'Green Valley ES', \n",
    "                 'Kemptown ES','Liberty ES', 'New Market ES', \n",
    "                 'Oakdale ES', 'Spring Ridge ES', 'Twin Ridge ES', \n",
    "                 'Urbana ES', 'Gov. T.J. MS', 'New Market MS', \n",
    "                 'Oakdale MS', 'Urbana MS', 'Windsor Knolls MS',\n",
    "                 'Linganore HS', 'Oakdale HS', 'Urbana HS']"
   ]
  },
  {
   "cell_type": "code",
   "execution_count": 2,
   "metadata": {},
   "outputs": [
    {
     "ename": "NameError",
     "evalue": "name 'sch_names_old' is not defined",
     "output_type": "error",
     "traceback": [
      "\u001b[0;31m---------------------------------------------------------------------------\u001b[0m",
      "\u001b[0;31mNameError\u001b[0m                                 Traceback (most recent call last)",
      "\u001b[0;32m<ipython-input-2-58da86438e22>\u001b[0m in \u001b[0;36m<module>\u001b[0;34m\u001b[0m\n\u001b[0;32m----> 1\u001b[0;31m \u001b[0msch_comments\u001b[0m \u001b[0;34m=\u001b[0m \u001b[0mSchoolComments\u001b[0m\u001b[0;34m(\u001b[0m\u001b[0msch_names_old\u001b[0m\u001b[0;34m)\u001b[0m\u001b[0;34m\u001b[0m\u001b[0;34m\u001b[0m\u001b[0m\n\u001b[0m\u001b[1;32m      2\u001b[0m \u001b[0;31m# all school new names\u001b[0m\u001b[0;34m\u001b[0m\u001b[0;34m\u001b[0m\u001b[0;34m\u001b[0m\u001b[0m\n\u001b[1;32m      3\u001b[0m \u001b[0msch_names\u001b[0m \u001b[0;34m=\u001b[0m \u001b[0msch_comments\u001b[0m\u001b[0;34m.\u001b[0m\u001b[0mmake_dict\u001b[0m\u001b[0;34m(\u001b[0m\u001b[0;34m)\u001b[0m\u001b[0;34m[\u001b[0m\u001b[0;36m1\u001b[0m\u001b[0;34m]\u001b[0m\u001b[0;34m\u001b[0m\u001b[0;34m\u001b[0m\u001b[0m\n\u001b[1;32m      4\u001b[0m \u001b[0melementary_schs\u001b[0m \u001b[0;34m=\u001b[0m \u001b[0msch_comments\u001b[0m\u001b[0;34m.\u001b[0m\u001b[0mmake_dict\u001b[0m\u001b[0;34m(\u001b[0m\u001b[0;34m)\u001b[0m\u001b[0;34m[\u001b[0m\u001b[0;36m2\u001b[0m\u001b[0;34m]\u001b[0m\u001b[0;34m\u001b[0m\u001b[0;34m\u001b[0m\u001b[0m\n\u001b[1;32m      5\u001b[0m \u001b[0mmiddle_schs\u001b[0m \u001b[0;34m=\u001b[0m \u001b[0msch_comments\u001b[0m\u001b[0;34m.\u001b[0m\u001b[0mmake_dict\u001b[0m\u001b[0;34m(\u001b[0m\u001b[0;34m)\u001b[0m\u001b[0;34m[\u001b[0m\u001b[0;36m3\u001b[0m\u001b[0;34m]\u001b[0m\u001b[0;34m\u001b[0m\u001b[0;34m\u001b[0m\u001b[0m\n",
      "\u001b[0;31mNameError\u001b[0m: name 'sch_names_old' is not defined"
     ]
    }
   ],
   "source": [
    "sch_comments = SchoolComments(sch_names_old)\n",
    "# all school new names\n",
    "sch_names = sch_comments.make_dict()[1]\n",
    "elementary_schs = sch_comments.make_dict()[2]\n",
    "middle_schs = sch_comments.make_dict()[3]\n",
    "high_schs = sch_comments.make_dict()[4]\n",
    "\n",
    "# save the comments\n",
    "fname = 'data/comments/LOU_results.xlsx'\n",
    "sheet_name = 'All_data'\n",
    "sch_comments.write_comments(fname, sheet_name)"
   ]
  },
  {
   "cell_type": "code",
   "execution_count": null,
   "metadata": {},
   "outputs": [],
   "source": [
    "# mean socre\n",
    "scores_mean = get_score(sch_names)[0]\n",
    "# percentage score\n",
    "scores_per = get_score(sch_names)[1]\n",
    "# raw scores\n",
    "scores_raw = get_score(sch_names)[2]"
   ]
  },
  {
   "cell_type": "code",
   "execution_count": null,
   "metadata": {},
   "outputs": [],
   "source": [
    "# for elementary schools\n",
    "json_es = Shape2Json('data/shapefiles/Elementary_School_Districts.shp', \n",
    "                     'results/json_es.json', \n",
    "                     'results/json_es_converted.json', \n",
    "                     'SCHOOL_1', \n",
    "                     elementary_schs)\n",
    "json_es.convert_json()\n",
    "json_es.convert_epsg()\n",
    "json_es.get_coordinates()\n",
    "coordinates_es = json_es.coordinates"
   ]
  },
  {
   "cell_type": "code",
   "execution_count": null,
   "metadata": {},
   "outputs": [],
   "source": [
    "\"\"\"\n",
    "Based on the search at MapQuest Developer website:\n",
    "\n",
    "\"\"\"\n",
    "coordinates_es['Deer Crossing Elementary'] = (39.4038, -77.2913)\n",
    "coordinates_es['Kemptown Elementary'] = (39.3297, -77.2341)\n",
    "coordinates_es['Oakdale Elementary'] = (39.3955, -77.3189)\n",
    "coordinates_es['Green Valley Elementary'] = (39.3434, -77.2657)"
   ]
  },
  {
   "cell_type": "code",
   "execution_count": null,
   "metadata": {},
   "outputs": [],
   "source": [
    "# Elementary schools option A\n",
    "map_plot1(coordinates_es, scores_per, 'A', \n",
    "        'results/json_es_converted.json', 'es')"
   ]
  }
 ],
 "metadata": {
  "kernelspec": {
   "display_name": "Python 3",
   "language": "python",
   "name": "python3"
  },
  "language_info": {
   "codemirror_mode": {
    "name": "ipython",
    "version": 3
   },
   "file_extension": ".py",
   "mimetype": "text/x-python",
   "name": "python",
   "nbconvert_exporter": "python",
   "pygments_lexer": "ipython3",
   "version": "3.6.8"
  }
 },
 "nbformat": 4,
 "nbformat_minor": 2
}
