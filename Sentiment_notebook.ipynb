{
 "cells": [
  {
   "cell_type": "markdown",
   "metadata": {},
   "source": [
    "## **Sentiment Analyses of Linganore-Oakdale-Urbana Area Redistricting**\n",
    "\n",
    "author: Meng Chen                                                       \n",
    "\n",
    "### **1. Introduction**\n",
    "Linganore-Oakdale-Urbana (LOU) Area is located in the southeastern area of the Frederick County of Maryland. During last ten years, the local communities have been transformed into well-maintained suburban residency for people who work in the Washington-Maryland area. Many professionals, such as administrative government employees or military personals chose to live in these neighborhoods, despite the distant transportation between their working places and homes. Even some government facilities have been located in this area. For an example, the Social Security Data Center is located next to the Park and Ride of the Exit 26 of Interstate-270 in the Urbana area. Recently, [Kite Pharma](https://www.kitepharma.com) is starting to build a pharmaceutical manufacturing facility here, and along its side, there will be a hotel and restaurant chain established in two years. Urbana area has become the prime area for both business and residents.\n",
    "\n",
    "These ongoing developments bring prosperity to the local communities. So does anxiety. For an example, the workforce brought by Kite Pharma has been estimated about 200-300 employees initially to 700-900 by its capacity. Such huge workforce will need hundreds of homes to accommodate their housing needs. Thus, the estate projects have been steadfastly developed in this area. More and more houses starts to show themselves off the landscape. However, only two new elementary schools have been added to the area, which obviously could not alleviate overcrowd situations in local schools. It becomes clear that, without any additional government funding, the Board of Education of Frederick County has an urgent need to conduct school redistricting at the basis of changing feeder patterns.\n",
    "\n",
    "Starting in January, 2019, Frederick County has contracted with Cropper GIS Consulting to conduct the redistricting study, which is expected to completed by the end of the 2019. This study primarily focuses on attendance boundary and feeder patterns for two new schools that supposedly address the enrollment growth in LOU area and provides projections of the school enrollments in next five-eight years. Based on the message of the Board of Education, the redistricting roots in their core belief that all students are entitled equally to respect, opportunity, and excellence ([here for details](https://www.fcps.org/capital-program/linganore-oakdale-urbana-area-redistricting-study)). However, after the Public Engagement Session in March, 2019, the proposed attendance boundary stirred the outrage from local communities based on analyses of the parents' feedbacks provided by the study. Most of parents show extremely frustrated by new attendance boundaries. Some parents in Urbana area for example organized a local hearing to express their frustration to a member of the Board of Education. With entirely two new options proposed in the Public Engagement Session in June, 2019, such outrage seems to be alleviated based on an initial assessment. Unfortunately, the quantitative assessment of parents' preferences were not available to the public prior to the superintendent's recommendation that was presented on September 11, 2019.\n",
    "\n",
    "This project primarily focuses on the sentiment and preferences of parents for new proposed options after the Public Engagement Session in June, 2019. The parents' preferable options will be compared with the plan of the superintendent's recommendation to investigate whether Board of Education's choices are aligned with parents' preferences and seek potential explanation. These will help board members understand the if parents support or oppose which option in a quantitative way and identify which communities have been mostly affected after June's proposal. In addition, the results will aid parents to recognize the educational needs of the majority of the their local communities."
   ]
  },
  {
   "cell_type": "markdown",
   "metadata": {},
   "source": [
    "### **2. Data Origination**\n",
    "This original survey data after meetings can be download as single [PDF files](https://www.fcps.org/capital-program/lou-meetings).\n",
    "The GPS coordinates are in shapefile that can be download at Frederick County [website](https://www.frederickcountymd.gov/5969/Download-GIS-Data).                        \n",
    "See README.md for details."
   ]
  },
  {
   "cell_type": "markdown",
   "metadata": {},
   "source": [
    "### **3. Data preprocessing**"
   ]
  },
  {
   "cell_type": "code",
   "execution_count": 5,
   "metadata": {},
   "outputs": [],
   "source": [
    "import csv\n",
    "import glob\n",
    "import os\n",
    "import re\n",
    "import pandas as pd\n",
    "import numpy as np\n",
    "from redistrict.senti import SentimentAnalysis\n",
    "from redistrict.shp_json import Shape2Json\n",
    "from redistrict.map_visual import MapVisualization"
   ]
  },
  {
   "cell_type": "code",
   "execution_count": 45,
   "metadata": {},
   "outputs": [],
   "source": [
    "'''\n",
    "A class to get comments from parents from different\n",
    "elementary, middle, and high school districts.\n",
    "For each district, the comment will be as a txt file \n",
    "separately in the designated folder.\n",
    "'''\n",
    "\n",
    "class SchoolComments:\n",
    "    \n",
    "    def __init__(self, old_names):\n",
    "        self.old_names = old_names\n",
    "        self.make_dict()\n",
    "        \n",
    "    def make_dict(self):\n",
    "        new_names = []\n",
    "        elementary_schs = []\n",
    "        middle_schs = []\n",
    "        high_schs = []\n",
    "        for name in self.old_names:\n",
    "            sch_type = name.split(' ')[-1]\n",
    "            if sch_type == 'ES':\n",
    "                new_name = re.sub('ES', 'Elementary', name)\n",
    "                elementary_schs.append(new_name)\n",
    "                new_names.append(new_name)\n",
    "            elif sch_type == 'MS':\n",
    "                new_name = re.sub('MS', 'Middle', name)\n",
    "                middle_schs.append(new_name)\n",
    "                new_names.append(new_name)\n",
    "            elif sch_type == 'HS':\n",
    "                new_name = re.sub('HS', 'High', name)\n",
    "                high_schs.append(new_name)\n",
    "                new_names.append(new_name)\n",
    "                \n",
    "        names_dict = {old_name: new_name for (old_name, new_name) \n",
    "                      in zip(self.old_names, new_names)}\n",
    "        \n",
    "        return (names_dict, new_names, elementary_schs, middle_schs, high_schs)\n",
    "        \n",
    "    def write_comments(self, fname, sheet, options=['A', 'B', 'AB']):\n",
    "        df = pd.read_excel(fname, sheet_name=sheet)\n",
    "        names_dict = self.make_dict()[0]\n",
    "        for key in names_dict.keys():\n",
    "            df['School'] = df['School'].replace(key, names_dict[key])\n",
    "            \n",
    "        new_names = self.make_dict()[1]\n",
    "        for sch in new_names:\n",
    "            for option in options:\n",
    "                text = open('results/comments_{0}_{1}.txt'.format(sch, option), 'w')\n",
    "                school_comments = df[df.School == sch][df.Option == option].Comments\n",
    "                for comment in school_comments:\n",
    "                    comment = str(comment)\n",
    "                    text.write(comment)\n",
    "            text.close()"
   ]
  },
  {
   "cell_type": "code",
   "execution_count": 46,
   "metadata": {},
   "outputs": [
    {
     "name": "stderr",
     "output_type": "stream",
     "text": [
      "/Users/mengchen/anaconda3/lib/python3.6/site-packages/ipykernel_launcher.py:49: UserWarning: Boolean Series key will be reindexed to match DataFrame index.\n"
     ]
    }
   ],
   "source": [
    "# old school names\n",
    "sch_names_old = ['Centerville ES', 'Deer Crossing ES', 'Green Valley ES', \n",
    "                 'Kemptown ES','Liberty ES', 'New Market ES', \n",
    "                 'Oakdale ES', 'Spring Ridge ES', 'Twin Ridge ES', \n",
    "                 'Urbana ES', 'Gov. T.J. MS', 'New Market MS', \n",
    "                 'Oakdale MS', 'Urbana MS', 'Windsor Knolls MS',\n",
    "                 'Linganore HS', 'Oakdale HS', 'Urbana HS']\n",
    "\n",
    "sch_comments = SchoolComments(sch_names_old)\n",
    "\n",
    "# all school new names\n",
    "sch_names = sch_comments.make_dict()[1]\n",
    "elementary_schs = sch_comments.make_dict()[2]\n",
    "middle_schs = sch_comments.make_dict()[3]\n",
    "high_schs = sch_comments.make_dict()[4]\n",
    "\n",
    "# save the comments\n",
    "fname = 'data/comments/LOU_results.xlsx'\n",
    "sheet_name = 'All_data'\n",
    "sch_comments.write_comments(fname, sheet_name)"
   ]
  },
  {
   "cell_type": "markdown",
   "metadata": {},
   "source": [
    "### **4. Sentiment analysis**\n",
    "#### **4.1 Calculating sentiment scores of the surveys for each school district**\n",
    "The SentiAnalysis is a class that processes either a string or a text file. It takes arthmetic, geometric, harmonic weighting to score the sentiment. The database of the word sentiment is SentiWordNet 3.0 and you can download it from [the its website](http://sentiwordnet.isti.cnr.it).                           \n",
    "See README.md for details."
   ]
  },
  {
   "cell_type": "code",
   "execution_count": 47,
   "metadata": {},
   "outputs": [],
   "source": [
    "'''\n",
    "Define a function to get the sentiment scores of each school district\n",
    "''' \n",
    "def get_score(sch_names, options=['A', 'B', 'AB'], path = 'results/'):\n",
    "    \n",
    "    # make dictionaries to store the results\n",
    "    scores_mean = {}\n",
    "    scores_per = {}\n",
    "    scores_raw = {}\n",
    "    \n",
    "    for school in sch_names:\n",
    "        scores_mean[school] = {}\n",
    "        scores_per[school] = {}\n",
    "        scores_raw[school] = {}\n",
    "        for option in options:\n",
    "            scores_mean[school][option] = {}\n",
    "            scores_per[school][option] = {}\n",
    "            scores_raw[school][option] = {}\n",
    "            senti_analysis = SentimentAnalysis()\n",
    "            new_path = os.path.join(path,\n",
    "                                    'comments_{}_{}.txt'.format(school, option))\n",
    "            files = glob.glob(new_path)\n",
    "            for file in files:\n",
    "                comment = open(file, 'r')\n",
    "                if len(comment.read()) == 0:\n",
    "                    scores_mean[school][option] = 'NA'\n",
    "                    scores_per[school][option] = 'NA'\n",
    "                    scores_raw[school][option] = 'NA'\n",
    "                else:\n",
    "                    score = senti_analysis.score_text(file)\n",
    "                    scores_mean[school][option] = score[0]\n",
    "                    scores_per[school][option]['Positive'] = score[1]\n",
    "                    scores_per[school][option]['Negaitive'] = score[2]\n",
    "                    scores_per[school][option]['Neutral'] = score[3]\n",
    "                    scores_raw[school][option] = score[-1]\n",
    "    \n",
    "    return (scores_mean, scores_per, scores_raw)"
   ]
  },
  {
   "cell_type": "code",
   "execution_count": 51,
   "metadata": {},
   "outputs": [],
   "source": [
    "# mean socre\n",
    "scores_mean = get_score(sch_names)[0]\n",
    "# percentage score\n",
    "scores_per = get_score(sch_names)[1]\n",
    "# raw scores\n",
    "scores_raw = get_score(sch_names)[2]"
   ]
  },
  {
   "cell_type": "markdown",
   "metadata": {},
   "source": [
    "#### **4.2 Convert shapefile to Geojson**\n",
    "The shapefiles provided by Frederick County is based on spatial reference EPSG 2248 for Maryland. To plot the results in world map, the spatial reference has been converted to EPSG 4326.             \n",
    "Class Shape2Json is developed to convert the shapefile to corresponding Geojson file. \n",
    "The conversion will be processed by `pyproj` module, and it takes **LONG** time to finish the job. Please be patient.      \n",
    "See README.md for details."
   ]
  },
  {
   "cell_type": "code",
   "execution_count": 4,
   "metadata": {},
   "outputs": [
    {
     "name": "stdout",
     "output_type": "stream",
     "text": [
      "shapefile to json ...\n",
      "coverting coordinates ...\n",
      "getting GPS coordinates of schools ...\n"
     ]
    }
   ],
   "source": [
    "# for elementary schools\n",
    "json_es = Shape2Json('data/shapefiles/Elementary_School_Districts.shp', \n",
    "                     'results/json_es.json', \n",
    "                     'results/json_es_converted.json', \n",
    "                     'SCHOOL_1', \n",
    "                     elementary_schs)\n",
    "json_es.convert_json()\n",
    "json_es.convert_epsg()\n",
    "json_es.get_coordinates()\n",
    "coordinates_es = json_es.coordinates"
   ]
  },
  {
   "cell_type": "code",
   "execution_count": 7,
   "metadata": {},
   "outputs": [
    {
     "name": "stdout",
     "output_type": "stream",
     "text": [
      "shapefile to json ...\n",
      "coverting coordinates ...\n",
      "getting GPS coordinates of schools ...\n"
     ]
    }
   ],
   "source": [
    "# for middle schools\n",
    "json_ms = Shape2Json('data/shapefiles/Middle_School_Districts.shp', \n",
    "                     'Results/json_ms.json', \n",
    "                     'Results/json_ms_converted.json',\n",
    "                     'SCHOOL', \n",
    "                     middle_schs)\n",
    "json_ms.convert_json()\n",
    "json_ms.convert_epsg()\n",
    "json_ms.get_coordinates()\n",
    "coordinates_ms = json_ms.coordinates"
   ]
  },
  {
   "cell_type": "code",
   "execution_count": 11,
   "metadata": {},
   "outputs": [
    {
     "name": "stdout",
     "output_type": "stream",
     "text": [
      "shapefile to json ...\n",
      "coverting coordinates ...\n",
      "getting GPS coordinates of schools ...\n"
     ]
    }
   ],
   "source": [
    "# for high schools\n",
    "json_hs = Shape2Json('data/shapefiles/High_School_Districts.shp', \n",
    "                     'results/json_hs.json', \n",
    "                     'results/json_hs_converted.json',\n",
    "                     'SCHOOL', \n",
    "                     high_schs)\n",
    "json_hs.convert_json()\n",
    "json_hs.convert_epsg()\n",
    "json_hs.get_coordinates()\n",
    "coordinates_hs = json_hs.coordinates"
   ]
  },
  {
   "cell_type": "markdown",
   "metadata": {},
   "source": [
    "#### **4.3 Fix the coordinates missing from previous program**\n",
    "A couple of school coordinates are missing due the incapable of finding the coordinates based on the address. So I manually search at [MapQuest Developer website](https://developer.mapquest.com/documentation/tools/latitude-longitude-finder/) to find those coordinates and updated the `coordinates_es`, `coordinates_ms`, and `coordinates_hs`, accordingly."
   ]
  },
  {
   "cell_type": "code",
   "execution_count": 17,
   "metadata": {},
   "outputs": [],
   "source": [
    "\"\"\"\n",
    "Based on the search at MapQuest Developer website:\n",
    "\n",
    "Elementary school:\n",
    "Deer Crossing Elementary: 39.4038, -77.2913\n",
    "Kemptown Elementary: 39.3297, -77.2341\n",
    "Oakdale Elementary: 39.3955, -77.3189\n",
    "Green Valley Elementary: 39.3434, -77.2657\n",
    "\n",
    "Middle school:\n",
    "Urbana Middle:: 39.330684,-77.336379\n",
    "Windsor Knolls Middle: 39.322002, -77.278516\n",
    "Oakdale Middle: 39.337555, -77.305634\n",
    "\n",
    "High school:\n",
    "Oakdale High: 39.394418, -77.309328\n",
    "Urbana High: 39.324881, -77.339102\n",
    "\n",
    "\"\"\"\n",
    "coordinates_es['Deer Crossing Elementary'] = (39.4038, -77.2913)\n",
    "coordinates_es['Kemptown Elementary'] = (39.3297, -77.2341)\n",
    "coordinates_es['Oakdale Elementary'] = (39.3955, -77.3189)\n",
    "coordinates_es['Green Valley Elementary'] = (39.3434, -77.2657)\n",
    "\n",
    "coordinates_ms['Urbana Middle'] = (39.330684, -77.336379)\n",
    "coordinates_ms['Windsor Knolls Middle'] = (39.322002, -77.278516)\n",
    "coordinates_ms['Oakdale Middle'] = (39.337555, -77.305634)\n",
    "\n",
    "coordinates_hs['Oakdale High'] = (39.394418, -77.309328)\n",
    "coordinates_hs['Urbana High'] = (39.324881, -77.339102)"
   ]
  },
  {
   "cell_type": "markdown",
   "metadata": {},
   "source": [
    "### **5. Visualize the results**\n",
    "See README for details."
   ]
  },
  {
   "cell_type": "code",
   "execution_count": 54,
   "metadata": {},
   "outputs": [],
   "source": [
    "\"\"\"\n",
    "Basic inputs for the visualization:\n",
    "coordinates: coordinates_es, coordinates_ms, coordinates_hs\n",
    "option: 'A', 'B'\n",
    "JSON file: json_es_converted.json, json_ms_converted.json, json_hs_converted.json\n",
    "scores: scores_per\n",
    "\"\"\"\n",
    "# define a plot function\n",
    "def map_plot(sch_coords, score, option, polygon, \n",
    "             distr_type, location='Frederick', # distr_type: es, ms, hs\n",
    "             color='blue'): \n",
    "    plot = MapVisualization(sch_coords, score, option, \n",
    "                            polygon, location)\n",
    "    plot.folium_visual(color, \n",
    "                       'results/{}_{}.html'.format(distr_type, option))"
   ]
  },
  {
   "cell_type": "code",
   "execution_count": null,
   "metadata": {},
   "outputs": [],
   "source": [
    "# Elementary schools option A\n",
    "map_plot(coordinates_es, scores_per, 'A', \n",
    "        'results/json_es_converted.json', es)"
   ]
  },
  {
   "cell_type": "code",
   "execution_count": null,
   "metadata": {},
   "outputs": [],
   "source": [
    "# Elementary schools option B\n",
    "map_plot(coordinates_es, scores_per, 'B', \n",
    "        'results/json_es_converted.json', es)"
   ]
  },
  {
   "cell_type": "code",
   "execution_count": null,
   "metadata": {},
   "outputs": [],
   "source": [
    "# Middle schools, option A\n",
    "map_plot(coordinates_ms, scores_per, 'A', \n",
    "        'results/json_ms_converted.json', ms)"
   ]
  },
  {
   "cell_type": "code",
   "execution_count": null,
   "metadata": {},
   "outputs": [],
   "source": [
    "# Middle schools, option B\n",
    "map_plot(coordinates_ms, scores_per, 'B', \n",
    "        'results/json_ms_converted.json', ms)"
   ]
  },
  {
   "cell_type": "code",
   "execution_count": null,
   "metadata": {},
   "outputs": [],
   "source": [
    "# High schools, option A\n",
    "map_plot(coordinates_hs, scores_per, 'A', \n",
    "        'results/json_hs_converted.json', hs)"
   ]
  },
  {
   "cell_type": "code",
   "execution_count": null,
   "metadata": {},
   "outputs": [],
   "source": [
    "# High schools, option B\n",
    "map_plot(coordinates_hs, scores_per, 'B', \n",
    "        'results/json_hs_converted.json', hs)"
   ]
  }
 ],
 "metadata": {
  "kernelspec": {
   "display_name": "Python 3",
   "language": "python",
   "name": "python3"
  },
  "language_info": {
   "codemirror_mode": {
    "name": "ipython",
    "version": 3
   },
   "file_extension": ".py",
   "mimetype": "text/x-python",
   "name": "python",
   "nbconvert_exporter": "python",
   "pygments_lexer": "ipython3",
   "version": "3.6.8"
  }
 },
 "nbformat": 4,
 "nbformat_minor": 2
}
