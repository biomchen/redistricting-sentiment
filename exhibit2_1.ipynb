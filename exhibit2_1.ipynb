{
 "cells": [
  {
   "cell_type": "markdown",
   "metadata": {},
   "source": [
    "## The second plot using data of elementary schools with all options\n",
    "The data and approaches used here were outdated. This is just for the exhibit purpose.\n",
    "\n",
    "During the fellowship, I will use `nltk.sentiment.vader` to calculate the sentiment score of each comments and cluster schools using `K-means` with the sentiment score. I will add the information of the local business to address the crowdedness of those local communities. To show the project here, I just adopt the outdated methods and data.\n",
    "\n",
    "For the inital whole project, I will refer you to the notebook `senti_notebook.ipynb` as well as the module I developed `redistrict`.\n",
    "#### Import the module `redistrict`"
   ]
  },
  {
   "cell_type": "code",
   "execution_count": null,
   "metadata": {},
   "outputs": [],
   "source": [
    "from redistrict import *"
   ]
  },
  {
   "cell_type": "markdown",
   "metadata": {},
   "source": [
    "#### **Set up parameters**"
   ]
  },
  {
   "cell_type": "code",
   "execution_count": null,
   "metadata": {},
   "outputs": [],
   "source": [
    "sch_names_old = ['Centerville ES', 'Deer Crossing ES', 'Green Valley ES', \n",
    "                 'Kemptown ES','Liberty ES', 'New Market ES', \n",
    "                 'Oakdale ES', 'Spring Ridge ES', 'Twin Ridge ES', \n",
    "                 'Urbana ES', 'Gov. T.J. MS', 'New Market MS', \n",
    "                 'Oakdale MS', 'Urbana MS', 'Windsor Knolls MS',\n",
    "                 'Linganore HS', 'Oakdale HS', 'Urbana HS']"
   ]
  },
  {
   "cell_type": "markdown",
   "metadata": {},
   "source": [
    "#### **Get data and save them separately**\n",
    "This original survey data after meetings can be download as single [PDF files](https://www.fcps.org/capital-program/lou-meetings).\n",
    "The GPS coordinates are in shapefile that can be download at Frederick County [website](https://www.frederickcountymd.gov/5969/Download-GIS-Data).               "
   ]
  },
  {
   "cell_type": "code",
   "execution_count": null,
   "metadata": {
    "scrolled": true
   },
   "outputs": [],
   "source": [
    "sch_comments = SchoolComments(sch_names_old)\n",
    "# all school new names\n",
    "sch_names = sch_comments.make_dict()[1]\n",
    "elementary_schs = sch_comments.make_dict()[2]\n",
    "middle_schs = sch_comments.make_dict()[3]\n",
    "high_schs = sch_comments.make_dict()[4]\n",
    "\n",
    "# save the comments\n",
    "fname = 'data/comments/LOU_results.xlsx'\n",
    "sheet_name = 'All_data'\n",
    "sch_comments.write_comments(fname, sheet_name)"
   ]
  },
  {
   "cell_type": "markdown",
   "metadata": {},
   "source": [
    "#### **Calcualte the sentiment score**\n",
    "The SentiAnalysis is a class that processes either a string or a text file. It takes arthmetic, geometric, harmonic weighting to score the sentiment. The database of the word sentiment is SentiWordNet 3.0 and you can download it from [the its website](http://sentiwordnet.isti.cnr.it)."
   ]
  },
  {
   "cell_type": "code",
   "execution_count": null,
   "metadata": {},
   "outputs": [],
   "source": [
    "# mean socre\n",
    "scores_mean = get_score(sch_names)[0]\n",
    "# percentage score\n",
    "scores_per = get_score(sch_names)[1]\n",
    "# raw scores\n",
    "scores_raw = get_score(sch_names)[2]"
   ]
  },
  {
   "cell_type": "markdown",
   "metadata": {},
   "source": [
    "#### **Convert shapefile to Geojson**\n",
    "The shapefiles provided by Frederick County is based on spatial reference EPSG 2248 for Maryland. To plot the results in world map, the spatial reference has been converted to EPSG 4326.             \n",
    "Class Shape2Json is developed to convert the shapefile to corresponding Geojson file. \n",
    "The conversion will be processed by `pyproj` module, and it takes **LONG** time to finish the job. Please be patient."
   ]
  },
  {
   "cell_type": "code",
   "execution_count": null,
   "metadata": {},
   "outputs": [],
   "source": [
    "# for elementary schools\n",
    "json_es = Shape2Json('data/shapefiles/Elementary_School_Districts.shp', \n",
    "                     'results/json_es.json', \n",
    "                     'results/json_es_converted.json', \n",
    "                     'SCHOOL_1', \n",
    "                     elementary_schs)\n",
    "json_es.convert_json()\n",
    "json_es.convert_epsg()\n",
    "json_es.get_coordinates()"
   ]
  },
  {
   "cell_type": "markdown",
   "metadata": {},
   "source": [
    "#### **Fix the coordinates missing from previous program**\n",
    "A couple of school coordinates are missing due the incapable of finding the coordinates based on the address. So I manually search at [MapQuest Developer website](https://developer.mapquest.com/documentation/tools/latitude-longitude-finder/) to find those coordinates and updated the `coordinates_es`, `coordinates_ms`, and `coordinates_hs`, accordingly."
   ]
  },
  {
   "cell_type": "code",
   "execution_count": null,
   "metadata": {},
   "outputs": [],
   "source": [
    "coordinates_es = json_es.coordinates\n",
    "coordinates_es['Deer Crossing Elementary'] = (39.4038, -77.2913)\n",
    "coordinates_es['Kemptown Elementary'] = (39.3297, -77.2341)\n",
    "coordinates_es['Oakdale Elementary'] = (39.3955, -77.3189)\n",
    "coordinates_es['Green Valley Elementary'] = (39.3434, -77.2657)"
   ]
  },
  {
   "cell_type": "markdown",
   "metadata": {},
   "source": [
    "#### **Visualize the results**"
   ]
  },
  {
   "cell_type": "code",
   "execution_count": null,
   "metadata": {},
   "outputs": [],
   "source": [
    "# Elementary schools option A\n",
    "map_plot1(coordinates_es, scores_per, 'A', \n",
    "        'results/json_es_converted.json', 'es')"
   ]
  },
  {
   "cell_type": "markdown",
   "metadata": {},
   "source": [
    "#### Due to the file size, the plot might be too big to show in the github website. Personally, I cannot see it directly via internet.\n",
    "#### So, it woud be better that you download the *exhibit2_2.html* to see it."
   ]
  }
 ],
 "metadata": {
  "kernelspec": {
   "display_name": "Python 3",
   "language": "python",
   "name": "python3"
  },
  "language_info": {
   "codemirror_mode": {
    "name": "ipython",
    "version": 3
   },
   "file_extension": ".py",
   "mimetype": "text/x-python",
   "name": "python",
   "nbconvert_exporter": "python",
   "pygments_lexer": "ipython3",
   "version": "3.6.8"
  }
 },
 "nbformat": 4,
 "nbformat_minor": 2
}
